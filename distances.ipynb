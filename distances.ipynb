{
 "cells": [
  {
   "cell_type": "code",
   "execution_count": null,
   "metadata": {},
   "outputs": [],
   "source": [
    "# Question: Minimize the maximum distance to reach all required places.\n",
    "# In other words, choose a block such that distance of all places is minimum from there\n",
    "# Example: consider block at index 3, min distance to reach gym is 1,\n",
    "# for school is 0, and for store is 1. Thus, the maximum you have to travel to reach\n",
    "# any of the places is 1.\n",
    "# Write code to find such a block"
   ]
  },
  {
   "cell_type": "code",
   "execution_count": 97,
   "metadata": {},
   "outputs": [],
   "source": [
    "blocks = [\n",
    "    {\n",
    "        \"gym\": False,\n",
    "        \"school\": True,\n",
    "        \"store\": False,\n",
    "    },\n",
    "    {\n",
    "        \"gym\": True,\n",
    "        \"school\": False,\n",
    "        \"store\": False,\n",
    "    },\n",
    "    {\n",
    "        \"gym\": True,\n",
    "        \"school\": True,\n",
    "        \"store\": False,\n",
    "    },\n",
    "    {\n",
    "        \"gym\": False,\n",
    "        \"school\": True,\n",
    "        \"store\": False,\n",
    "    },\n",
    "    {\n",
    "        \"gym\": False,\n",
    "        \"school\": True,\n",
    "        \"store\": True,\n",
    "    },\n",
    "]\n",
    "\n",
    "reqs = [\"gym\", \"school\"]"
   ]
  },
  {
   "cell_type": "code",
   "execution_count": 100,
   "metadata": {},
   "outputs": [
    {
     "name": "stdout",
     "output_type": "stream",
     "text": [
      "{0: 1, 1: 1, 2: 0, 3: 1, 4: 2}\n"
     ]
    }
   ],
   "source": [
    "# a dictionary to store max of min distances of any place\n",
    "distances = {}\n",
    "\n",
    "# iterating through blocks\n",
    "for i, block in enumerate(blocks):\n",
    "    dis_to_place = {}\n",
    "    \n",
    "    # iterating through the required places list to check distances\n",
    "    for place in reqs:\n",
    "        dist_after = dist_before = current_pos = len(blocks)\n",
    "\n",
    "        # if place is in current block set distance to 0 and continue\n",
    "        if block[place]:\n",
    "            dis_to_place[place] = 0\n",
    "            continue\n",
    "        \n",
    "        # if place is not in current block then look in blocks after and before\n",
    "        if not block[place]:\n",
    "            \n",
    "            # checking blocks after the current block\n",
    "            for si, sblock in enumerate(blocks[(i+1):]):\n",
    "                if sblock[place]:\n",
    "                    dist_after = si+1\n",
    "                    break\n",
    "\n",
    "            # checking blocks before the current block if current block is not the first\n",
    "            if i != 0:\n",
    "                for si, sblock in enumerate(blocks[(i-1)::-1]):\n",
    "                    if sblock[place]:\n",
    "                        dist_before = si+1\n",
    "                        break\n",
    "            # selecting the minimum of dist_after and dist_before\n",
    "            dis_to_place[place] = min((dist_after, dist_before, current_pos))\n",
    "    \n",
    "    # selecting the max distance from either place's distances\n",
    "    distances[i] = max(dis_to_place.values())\n",
    "\n",
    "print(distances)"
   ]
  },
  {
   "cell_type": "code",
   "execution_count": 101,
   "metadata": {},
   "outputs": [
    {
     "name": "stdout",
     "output_type": "stream",
     "text": [
      "(2, 0)\n"
     ]
    }
   ],
   "source": [
    "# selecting the distance with least max travel\n",
    "minimized = sorted(distances.items(), key=lambda x: x[1])[0]\n",
    "\n",
    "print(minimized)"
   ]
  },
  {
   "cell_type": "code",
   "execution_count": 99,
   "metadata": {},
   "outputs": [
    {
     "data": {
      "text/plain": [
       "(2, 0)"
      ]
     },
     "execution_count": 99,
     "metadata": {},
     "output_type": "execute_result"
    }
   ],
   "source": [
    "# here block at index 2 has the minimum maximum distance 0\n",
    "# which is the answer"
   ]
  }
 ],
 "metadata": {
  "interpreter": {
   "hash": "cece0b1bb11d2c947d87747da2a5c671ba04febe8f2f647fb73c1a800cb0ea33"
  },
  "kernelspec": {
   "display_name": "Python 3.10.1 64-bit",
   "language": "python",
   "name": "python3"
  },
  "language_info": {
   "codemirror_mode": {
    "name": "ipython",
    "version": 3
   },
   "file_extension": ".py",
   "mimetype": "text/x-python",
   "name": "python",
   "nbconvert_exporter": "python",
   "pygments_lexer": "ipython3",
   "version": "3.10.1"
  },
  "orig_nbformat": 4
 },
 "nbformat": 4,
 "nbformat_minor": 2
}
